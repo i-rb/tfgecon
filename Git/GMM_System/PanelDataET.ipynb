{
 "cells": [
  {
   "cell_type": "markdown",
   "metadata": {},
   "source": [
    "# Estimation Techniques for Panel Data"
   ]
  },
  {
   "cell_type": "markdown",
   "metadata": {},
   "source": [
    "## 0. Introduction\n",
    "\n",
    "Our aim in this notebook is to study different options of how a panel data model can be specified and estimated in order to use one of them in our work about the network approach in macroeconomics. We will start with the usual form, which is the most likely to be eventually used in the work: **GMM**, specificly *System GMM*, which behaves better with few industries. \n",
    " \n",
    " Then, we will explore two more options. One coming from the engineering: **State-space Models** and one form data science: **Neural Network Models**.\n"
   ]
  },
  {
   "cell_type": "markdown",
   "metadata": {},
   "source": [
    "## 1. System GMM"
   ]
  },
  {
   "cell_type": "markdown",
   "metadata": {},
   "source": [
    "References for this chapter are, basically, a Marcelo Soto's paper: ***System GMM estimation with one small sample***."
   ]
  },
  {
   "cell_type": "markdown",
   "metadata": {},
   "source": [
    "### 1.1 Theory"
   ]
  },
  {
   "cell_type": "markdown",
   "metadata": {},
   "source": [
    "The econometric model with the parameters we would like to estimate is specified as follows:\n",
    " \n",
    " $y_{it}=\\alpha y_{it-1}+\\beta x_{it}+\\eta_i+u_{it}$ (1)\n",
    " \n",
    " i.e., we have an AR model with one aditional regressor. The variable $x_it$ is also assumed to follow an AR process. _(Here lies the endogeneity)_\n",
    " \n",
    " $x_{it}=\\rho x_{it-1} + \\tau\\eta_i + \\theta u_{it} + e_{it}$ (2)\n",
    " \n",
    " both with $i=1,\\dots,N,\\;\\;t=1,\\dots,T\\;\\;and\\;\\;|\\rho|<1$. \n",
    "  \n",
    " Some usual properties are needed: \n",
    "  \n",
    "  $E(\\eta_i)=E(u_{it})=E(\\eta_iu_{it})=E(u_{is}u_{it})=E(e_{it})=E(\\eta_ie_{it})=0$  \n",
    "   \n",
    "  (...)\n",
    "   \n",
    "  *Complete with the **Marcelo Soto's** [original paper](https://www.barcelonagse.eu/sites/default/files/working_paper_pdfs/395.pdf) if needed*.\n",
    " "
   ]
  },
  {
   "cell_type": "markdown",
   "metadata": {},
   "source": [
    "### 1.2 Python Implementation"
   ]
  },
  {
   "cell_type": "code",
   "execution_count": 16,
   "metadata": {},
   "outputs": [],
   "source": [
    "import pandas as pd\n",
    "import numpy as np"
   ]
  },
  {
   "cell_type": "code",
   "execution_count": 17,
   "metadata": {},
   "outputs": [],
   "source": [
    "#### INPUTS: \n",
    "###########: y = output (dep var) matrix (NxT)\n",
    "###########: x = input (ind var) matrix (NxT)"
   ]
  },
  {
   "cell_type": "code",
   "execution_count": 502,
   "metadata": {},
   "outputs": [],
   "source": [
    "### data samples: (N=3, T=6)\n",
    "x=[[1,2,3,3,2,4],[2,3,4,2,1,3],[1,4,5,6,2,4]]\n",
    "y=[[2,4,3,6,9,4],[1,2,3,4,5,7],[8,5,1,2,4,7]]"
   ]
  },
  {
   "cell_type": "code",
   "execution_count": 19,
   "metadata": {},
   "outputs": [],
   "source": [
    "def diff(x): # works\n",
    "    ac=[]\n",
    "    i=1\n",
    "    while i<len(x):\n",
    "        ac.append(x[i]-x[i-1])\n",
    "        i=i+1\n",
    "    return ac"
   ]
  },
  {
   "cell_type": "code",
   "execution_count": 273,
   "metadata": {},
   "outputs": [],
   "source": [
    "def z_li(i,x,y):        # WORKS FINE\n",
    "    z=[]\n",
    "    vxi=diff(x[i])\n",
    "    vyi=diff(y[i])\n",
    "    pos=0\n",
    "    while pos<(len(vxi)-1):\n",
    "        ac=[0]*(len(vxi)-1)*2\n",
    "        ac[pos*2]=vyi[pos]\n",
    "        ac[pos*2+1]=vxi[pos]\n",
    "        z.append(ac)\n",
    "        pos=pos+1\n",
    "    return z\n"
   ]
  },
  {
   "cell_type": "code",
   "execution_count": 21,
   "metadata": {},
   "outputs": [],
   "source": [
    "def tr(M):           # transponse\n",
    "    trans=[]\n",
    "    for j in range(len(M[0])):\n",
    "        ac=[]\n",
    "        for i in range(len(M)):\n",
    "            ac.append(M[i][j])\n",
    "        trans.append(ac)\n",
    "    return trans"
   ]
  },
  {
   "cell_type": "code",
   "execution_count": 281,
   "metadata": {},
   "outputs": [],
   "source": [
    "def z_l(x,y):  # WORKS FINE (cont) \n",
    "    z_l0=tr(z_li(0,x,y))\n",
    "    i=1\n",
    "    while i<len(x):\n",
    "        zli=tr(z_li(i,x,y))\n",
    "        t=0\n",
    "        while t<len(z_l0):\n",
    "            z_l0[t]=z_l0[t]+zli[t]\n",
    "            t=t+1\n",
    "        i=i+1\n",
    "    return tr(z_l0)"
   ]
  },
  {
   "cell_type": "code",
   "execution_count": 260,
   "metadata": {},
   "outputs": [],
   "source": [
    "def z_di(i,x,y):    # WORKS FINE\n",
    "    yi=y[i]\n",
    "    xi=x[i]\n",
    "    T=len(xi)\n",
    "    z=[]\n",
    "    for i in range(T-2):\n",
    "        z.append([0]*(T-1)*(T-2))\n",
    "    z[0][0]=yi[0]\n",
    "    z[0][1]=xi[0]\n",
    "    pos=1\n",
    "    num=2\n",
    "    emp=2\n",
    "    while pos<len(z):\n",
    "        i=emp\n",
    "        while i<((emp+(num+2)/2)-1):\n",
    "            z[pos][i]=yi[i-emp]\n",
    "            i=i+1\n",
    "        z[pos][int((emp+(num+2)/2))-1]=yi[pos]\n",
    "        i=int((emp+(num+2)/2))\n",
    "        while i<(emp+num+1):\n",
    "            z[pos][i]=xi[i-int((emp+(num+2)/2))]\n",
    "            i=i+1\n",
    "        z[pos][emp+num+1]=xi[pos]\n",
    "        num=num+2\n",
    "        emp=emp+num\n",
    "        pos=pos+1\n",
    "        \n",
    "    return z\n"
   ]
  },
  {
   "cell_type": "code",
   "execution_count": 254,
   "metadata": {},
   "outputs": [],
   "source": [
    "def z_d(x,y): # works fine\n",
    "    z_l0=tr(z_di(0,x,y))\n",
    "    i=1\n",
    "    while i<len(x):\n",
    "        zli=tr(z_di(i,x,y))\n",
    "        t=0\n",
    "        while t<(len(z_l0)):\n",
    "            z_l0[t]=z_l0[t]+zli[t]\n",
    "            t=t+1\n",
    "        i=i+1\n",
    "    return tr(z_l0)"
   ]
  },
  {
   "cell_type": "code",
   "execution_count": 236,
   "metadata": {},
   "outputs": [],
   "source": [
    "def w_l(x,y): # here we start to work with arrays\n",
    "    zli=np.array(z_li(0,x,y))\n",
    "    tzli=np.array(tr(z_li(0,x,y)))\n",
    "    w1=tzli@zli\n",
    "    for i in range(len(x)-1):\n",
    "        zli=np.array(z_li(i+1,x,y))\n",
    "        tzli=np.array(tr(z_li(i+1,x,y)))\n",
    "        sumparcial=tzli@zli\n",
    "        w1=w1+sumparcial\n",
    "    return w1\n",
    "    "
   ]
  },
  {
   "cell_type": "code",
   "execution_count": 237,
   "metadata": {},
   "outputs": [],
   "source": [
    "def G_matrix(l): # l = len\n",
    "    G=[]\n",
    "    i=0\n",
    "    while i<l:\n",
    "        j=0\n",
    "        ac=[]\n",
    "        while j<l:\n",
    "            try:\n",
    "                if i==j:\n",
    "                    ac.append(2)\n",
    "                elif i==(j-1):\n",
    "                    ac.append(-1)\n",
    "                elif i==(j+1):\n",
    "                    ac.append(-1)\n",
    "                else:\n",
    "                    ac.append(0)\n",
    "                j=j+1\n",
    "            except:\n",
    "                ac.append(0)\n",
    "                j=j+1\n",
    "        G.append(ac)\n",
    "        i=i+1\n",
    "    return G"
   ]
  },
  {
   "cell_type": "code",
   "execution_count": 238,
   "metadata": {},
   "outputs": [],
   "source": [
    "def w_d(x,y):\n",
    "    zdi=np.array(z_di(0,x,y))\n",
    "    T=len(x[0])\n",
    "    G=np.array(G_matrix(T-2))\n",
    "    tzdi=np.array(tr(z_di(0,x,y)))\n",
    "    wd=tzdi@G@zdi\n",
    "    for i in range(len(x)-1):\n",
    "        zdi=np.array(z_di(i+1,x,y))\n",
    "        tzdi=np.array(tr(z_di(i+1,x,y)))\n",
    "        sumparcial=tzdi@G@zdi\n",
    "        wd=wd+sumparcial\n",
    "    return wd\n",
    "        "
   ]
  },
  {
   "cell_type": "code",
   "execution_count": 545,
   "metadata": {},
   "outputs": [],
   "source": [
    "def w_s(x,y): ## puede que esté mal !! (asegurarse!!!)\n",
    "    wd=w_d(x,y)\n",
    "    wl=w_l(x,y)\n",
    "    ws=pd.DataFrame()\n",
    "    for i in range(len(wd)):\n",
    "        a=[]\n",
    "        a.append(wd[i])\n",
    "        b=np.array([0]*len(wl))\n",
    "        ac=np.append(a,b)\n",
    "        ws[i]=ac\n",
    "    for i in range(len(wl)):\n",
    "        a=np.array([0]*len(wd))\n",
    "        b=wl[i]\n",
    "        ac=np.append(a,b)\n",
    "        ws[i+100]=ac\n",
    "    return np.array(ws) \n",
    "            \n",
    "        "
   ]
  },
  {
   "cell_type": "code",
   "execution_count": 425,
   "metadata": {},
   "outputs": [],
   "source": [
    "def z_s(x,y):\n",
    "    zd=np.array(z_d(x,y))\n",
    "    zl=np.array(z_l(x,y))\n",
    "    a=np.array([[0]*len(tr(zl))]*len(zd))\n",
    "    firstpart=np.concatenate((zd,a),axis=1)\n",
    "    b=np.array([[0]*len(tr(zd))]*len(zl))\n",
    "    secondpart=np.concatenate((b,zl),axis=1)\n",
    "    zs=np.concatenate((firstpart,secondpart),axis=0)\n",
    "    return zs\n",
    "    "
   ]
  },
  {
   "cell_type": "code",
   "execution_count": 461,
   "metadata": {},
   "outputs": [],
   "source": [
    "def stock_x(x): #rellenar (tiene que ser 24x2) np.array\n",
    "    \n",
    "    return x"
   ]
  },
  {
   "cell_type": "code",
   "execution_count": 462,
   "metadata": {},
   "outputs": [],
   "source": [
    "def stock_y(y): #rellenar (tiene que ser 24x1) np.array\n",
    "    \n",
    "    return y"
   ]
  },
  {
   "cell_type": "code",
   "execution_count": 512,
   "metadata": {},
   "outputs": [],
   "source": [
    "def vec_est(x,y):\n",
    "    xs=stock_x(x)\n",
    "    ys=stock_y(y)\n",
    "    inter0=np.array(tr(xs))@z_s(x,y)\n",
    "    inter1=inter0@np.linalg.inv(w_s(x,y))\n",
    "    inter2=inter1@np.array(tr(z_s(x,y)))@xs\n",
    "    primera=np.linalg.inv(inter2)\n",
    "    segunda=np.array(tr(xs))@z_s(x,y)@np.linalg.inv(w_s(x,y))@np.array(tr(z_s(x,y)))@ys\n",
    "    bs=primera@segunda\n",
    "    i=0\n",
    "    while i<len(bs):\n",
    "        if i==0:\n",
    "            print(\"ESTIMADOR PARA ALPHA: \" +str(bs[i]))\n",
    "        else:\n",
    "            print(\"ESTIMADOR PARA BETA \"+str(i)+\": \"+str(bs[i]))\n",
    "        i=i+1\n",
    "    return bs"
   ]
  },
  {
   "cell_type": "markdown",
   "metadata": {},
   "source": [
    "_(Cuando funcione correctamente todo esto se eliminará de aquí)_"
   ]
  },
  {
   "cell_type": "markdown",
   "metadata": {},
   "source": [
    "### 1.3 Use of pygmm"
   ]
  },
  {
   "cell_type": "code",
   "execution_count": 548,
   "metadata": {},
   "outputs": [],
   "source": [
    "import pygmm as gmm"
   ]
  },
  {
   "cell_type": "code",
   "execution_count": 550,
   "metadata": {},
   "outputs": [
    {
     "ename": "ValueError",
     "evalue": "matmul: Input operand 1 has a mismatch in its core dimension 0, with gufunc signature (n?,k),(k,m?)->(n?,m?) (size 24 is different from 3)",
     "output_type": "error",
     "traceback": [
      "\u001b[0;31m--------------------------\u001b[0m",
      "\u001b[0;31mValueError\u001b[0mTraceback (most recent call last)",
      "\u001b[0;32m<ipython-input-550-d101e964e34c>\u001b[0m in \u001b[0;36m<module>\u001b[0;34m\u001b[0m\n\u001b[0;32m----> 1\u001b[0;31m \u001b[0mgmm\u001b[0m\u001b[0;34m.\u001b[0m\u001b[0mvec_est\u001b[0m\u001b[0;34m(\u001b[0m\u001b[0mx\u001b[0m\u001b[0;34m,\u001b[0m\u001b[0my\u001b[0m\u001b[0;34m)\u001b[0m \u001b[0;31m# da error porque está sin acabar\u001b[0m\u001b[0;34m\u001b[0m\u001b[0;34m\u001b[0m\u001b[0m\n\u001b[0m",
      "\u001b[0;32m~/Documents/Universidad/TFG Economía/Data_PRES/pygmm.py\u001b[0m in \u001b[0;36mvec_est\u001b[0;34m(x, y)\u001b[0m\n\u001b[1;32m    276\u001b[0m     \u001b[0mxs\u001b[0m\u001b[0;34m=\u001b[0m\u001b[0mstock_x\u001b[0m\u001b[0;34m(\u001b[0m\u001b[0mx\u001b[0m\u001b[0;34m)\u001b[0m\u001b[0;34m\u001b[0m\u001b[0;34m\u001b[0m\u001b[0m\n\u001b[1;32m    277\u001b[0m     \u001b[0mys\u001b[0m\u001b[0;34m=\u001b[0m\u001b[0mstock_y\u001b[0m\u001b[0;34m(\u001b[0m\u001b[0my\u001b[0m\u001b[0;34m)\u001b[0m\u001b[0;34m\u001b[0m\u001b[0;34m\u001b[0m\u001b[0m\n\u001b[0;32m--> 278\u001b[0;31m     \u001b[0minter0\u001b[0m\u001b[0;34m=\u001b[0m\u001b[0mnp\u001b[0m\u001b[0;34m.\u001b[0m\u001b[0marray\u001b[0m\u001b[0;34m(\u001b[0m\u001b[0mtr\u001b[0m\u001b[0;34m(\u001b[0m\u001b[0mxs\u001b[0m\u001b[0;34m)\u001b[0m\u001b[0;34m)\u001b[0m\u001b[0;34m@\u001b[0m\u001b[0mz_s\u001b[0m\u001b[0;34m(\u001b[0m\u001b[0mx\u001b[0m\u001b[0;34m,\u001b[0m\u001b[0my\u001b[0m\u001b[0;34m)\u001b[0m\u001b[0;34m\u001b[0m\u001b[0;34m\u001b[0m\u001b[0m\n\u001b[0m\u001b[1;32m    279\u001b[0m     \u001b[0minter1\u001b[0m\u001b[0;34m=\u001b[0m\u001b[0minter0\u001b[0m\u001b[0;34m@\u001b[0m\u001b[0mnp\u001b[0m\u001b[0;34m.\u001b[0m\u001b[0mlinalg\u001b[0m\u001b[0;34m.\u001b[0m\u001b[0minv\u001b[0m\u001b[0;34m(\u001b[0m\u001b[0mw_s\u001b[0m\u001b[0;34m(\u001b[0m\u001b[0mx\u001b[0m\u001b[0;34m,\u001b[0m\u001b[0my\u001b[0m\u001b[0;34m)\u001b[0m\u001b[0;34m)\u001b[0m\u001b[0;34m\u001b[0m\u001b[0;34m\u001b[0m\u001b[0m\n\u001b[1;32m    280\u001b[0m     \u001b[0minter2\u001b[0m\u001b[0;34m=\u001b[0m\u001b[0minter1\u001b[0m\u001b[0;34m@\u001b[0m\u001b[0mnp\u001b[0m\u001b[0;34m.\u001b[0m\u001b[0marray\u001b[0m\u001b[0;34m(\u001b[0m\u001b[0mtr\u001b[0m\u001b[0;34m(\u001b[0m\u001b[0mz_s\u001b[0m\u001b[0;34m(\u001b[0m\u001b[0mx\u001b[0m\u001b[0;34m,\u001b[0m\u001b[0my\u001b[0m\u001b[0;34m)\u001b[0m\u001b[0;34m)\u001b[0m\u001b[0;34m)\u001b[0m\u001b[0;34m@\u001b[0m\u001b[0mxs\u001b[0m\u001b[0;34m\u001b[0m\u001b[0;34m\u001b[0m\u001b[0m\n",
      "\u001b[0;31mValueError\u001b[0m: matmul: Input operand 1 has a mismatch in its core dimension 0, with gufunc signature (n?,k),(k,m?)->(n?,m?) (size 24 is different from 3)"
     ]
    }
   ],
   "source": [
    "gmm.vec_est(x,y) # da error porque está sin acabar"
   ]
  },
  {
   "cell_type": "markdown",
   "metadata": {},
   "source": [
    "#### neural networks en otro notebook (con env=panel_data_nn)"
   ]
  }
 ],
 "metadata": {
  "kernelspec": {
   "display_name": "Python 3",
   "language": "python",
   "name": "python3"
  },
  "language_info": {
   "codemirror_mode": {
    "name": "ipython",
    "version": 3
   },
   "file_extension": ".py",
   "mimetype": "text/x-python",
   "name": "python",
   "nbconvert_exporter": "python",
   "pygments_lexer": "ipython3",
   "version": "3.7.3"
  }
 },
 "nbformat": 4,
 "nbformat_minor": 2
}
